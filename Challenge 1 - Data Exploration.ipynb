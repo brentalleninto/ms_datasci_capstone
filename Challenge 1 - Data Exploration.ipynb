{
 "cells": [
  {
   "cell_type": "markdown",
   "metadata": {},
   "source": [
    "This notebook is focused on the answers to the Challenge 1: Data Exploration.\n",
    "This is not designed for extensive EDA, or for the machine learning portion of the Capstone project."
   ]
  },
  {
   "cell_type": "markdown",
   "metadata": {},
   "source": [
    "These are the required libraries for this part of the project.\n",
    "sklearn is not yet required."
   ]
  },
  {
   "cell_type": "code",
   "execution_count": 28,
   "metadata": {},
   "outputs": [],
   "source": [
    "import numpy as np\n",
    "import pandas as pd\n",
    "import matplotlib.pyplot as plt\n",
    "import seaborn as sns"
   ]
  },
  {
   "cell_type": "markdown",
   "metadata": {},
   "source": [
    "Only the training set needs to be imported.\n",
    "However, the labels need to be merged into the training set in order to meet the requirements of the assignment."
   ]
  },
  {
   "cell_type": "code",
   "execution_count": 29,
   "metadata": {},
   "outputs": [],
   "source": [
    "#quaketest = pd.read_csv('test_values.csv')\n",
    "quaketrain = pd.read_csv('train_values.csv')\n",
    "quaketrainlabels = pd.read_csv('train_labels.csv')\n",
    "quaketrainlabeled = quaketrain.merge(quaketrainlabels, left_on='building_id', right_on='building_id')"
   ]
  },
  {
   "cell_type": "markdown",
   "metadata": {},
   "source": [
    "Descriptive statistics are sufficient to answer:\n",
    "\n",
    "- Minimum Height\n",
    "- Maximium Height\n",
    "- Mean Height\n",
    "- Median Height\n",
    "- Standard Deviation of Height"
   ]
  },
  {
   "cell_type": "code",
   "execution_count": 30,
   "metadata": {},
   "outputs": [
    {
     "name": "stdout",
     "output_type": "stream",
     "text": [
      "        building_id  geo_level_1_id  geo_level_2_id  geo_level_3_id  \\\n",
      "count  10000.000000    10000.000000    10000.000000    10000.000000   \n",
      "mean    9987.160000        7.135600      296.930300     2678.617900   \n",
      "std     5800.800829        6.225567      279.390651     2520.663769   \n",
      "min        1.000000        0.000000        0.000000        0.000000   \n",
      "25%     4998.750000        2.000000       60.000000      606.750000   \n",
      "50%     9963.500000        6.000000      219.000000     1937.500000   \n",
      "75%    15044.750000       10.000000      466.000000     4158.000000   \n",
      "max    19999.000000       30.000000     1411.000000    12151.000000   \n",
      "\n",
      "       count_floors_pre_eq           age          area        height  \\\n",
      "count         10000.000000  10000.000000  10000.000000  10000.000000   \n",
      "mean              2.146700     25.393500     38.438100      4.653100   \n",
      "std               0.736365     64.482893     21.265883      1.792842   \n",
      "min               1.000000      0.000000      6.000000      1.000000   \n",
      "25%               2.000000     10.000000     26.000000      4.000000   \n",
      "50%               2.000000     15.000000     34.000000      5.000000   \n",
      "75%               3.000000     30.000000     44.000000      5.000000   \n",
      "max               9.000000    995.000000    425.000000     30.000000   \n",
      "\n",
      "       has_superstructure_adobe_mud  has_superstructure_mud_mortar_stone  \\\n",
      "count                  10000.000000                         10000.000000   \n",
      "mean                       0.089700                             0.762600   \n",
      "std                        0.285766                             0.425511   \n",
      "min                        0.000000                             0.000000   \n",
      "25%                        0.000000                             1.000000   \n",
      "50%                        0.000000                             1.000000   \n",
      "75%                        0.000000                             1.000000   \n",
      "max                        1.000000                             1.000000   \n",
      "\n",
      "                ...             has_secondary_use_agriculture  \\\n",
      "count           ...                              10000.000000   \n",
      "mean            ...                                  0.067300   \n",
      "std             ...                                  0.250553   \n",
      "min             ...                                  0.000000   \n",
      "25%             ...                                  0.000000   \n",
      "50%             ...                                  0.000000   \n",
      "75%             ...                                  0.000000   \n",
      "max             ...                                  1.000000   \n",
      "\n",
      "       has_secondary_use_hotel  has_secondary_use_rental  \\\n",
      "count             10000.000000              10000.000000   \n",
      "mean                  0.029400                  0.006400   \n",
      "std                   0.168933                  0.079748   \n",
      "min                   0.000000                  0.000000   \n",
      "25%                   0.000000                  0.000000   \n",
      "50%                   0.000000                  0.000000   \n",
      "75%                   0.000000                  0.000000   \n",
      "max                   1.000000                  1.000000   \n",
      "\n",
      "       has_secondary_use_institution  has_secondary_use_school  \\\n",
      "count                    10000.00000               10000.00000   \n",
      "mean                         0.00070                   0.00070   \n",
      "std                          0.02645                   0.02645   \n",
      "min                          0.00000                   0.00000   \n",
      "25%                          0.00000                   0.00000   \n",
      "50%                          0.00000                   0.00000   \n",
      "75%                          0.00000                   0.00000   \n",
      "max                          1.00000                   1.00000   \n",
      "\n",
      "       has_secondary_use_industry  has_secondary_use_health_post  \\\n",
      "count                10000.000000                   10000.000000   \n",
      "mean                     0.000800                       0.000200   \n",
      "std                      0.028274                       0.014141   \n",
      "min                      0.000000                       0.000000   \n",
      "25%                      0.000000                       0.000000   \n",
      "50%                      0.000000                       0.000000   \n",
      "75%                      0.000000                       0.000000   \n",
      "max                      1.000000                       1.000000   \n",
      "\n",
      "       has_secondary_use_gov_office  has_secondary_use_use_police  \\\n",
      "count                  10000.000000                    10000.0000   \n",
      "mean                       0.000200                        0.0001   \n",
      "std                        0.014141                        0.0100   \n",
      "min                        0.000000                        0.0000   \n",
      "25%                        0.000000                        0.0000   \n",
      "50%                        0.000000                        0.0000   \n",
      "75%                        0.000000                        0.0000   \n",
      "max                        1.000000                        1.0000   \n",
      "\n",
      "       has_secondary_use_other  \n",
      "count             10000.000000  \n",
      "mean                  0.005300  \n",
      "std                   0.072612  \n",
      "min                   0.000000  \n",
      "25%                   0.000000  \n",
      "50%                   0.000000  \n",
      "75%                   0.000000  \n",
      "max                   1.000000  \n",
      "\n",
      "[8 rows x 31 columns]\n"
     ]
    }
   ],
   "source": [
    "print(quaketrain.describe())"
   ]
  },
  {
   "attachments": {},
   "cell_type": "markdown",
   "metadata": {},
   "source": [
    "The distribution of damage grade uses a histogram in the assignment - I'll be trying to match their histogram.\n",
    "\n",
    "Histogram A:\n",
    "https://prod-edxapp.edx-cdn.org/assets/courseware/v1/e7c69fc8b49cccb6f65c9da78663298b/asset-v1:Microsoft+DAT102x+1T2018+type@asset+block/Damage-Grade-A.png\n",
    "\n",
    "Histogram B:\n",
    "https://prod-edxapp.edx-cdn.org/assets/courseware/v1/1272a42411edb0a43ab7065f1d5a311e/asset-v1:Microsoft+DAT102x+1T2018+type@asset+block/Damage-Grade-B.png\n",
    "\n",
    "Histogram C:\n",
    "https://prod-edxapp.edx-cdn.org/assets/courseware/v1/1272a42411edb0a43ab7065f1d5a311e/asset-v1:Microsoft+DAT102x+1T2018+type@asset+block/Damage-Grade-C.png\n",
    "\n",
    "Histogram D:\n",
    "https://prod-edxapp.edx-cdn.org/assets/courseware/v1/1272a42411edb0a43ab7065f1d5a311e/asset-v1:Microsoft+DAT102x+1T2018+type@asset+block/Damage-Grade-D.png"
   ]
  },
  {
   "cell_type": "code",
   "execution_count": 31,
   "metadata": {},
   "outputs": [
    {
     "data": {
      "image/png": "[encoded data removed]",
      "text/plain": [
       "<matplotlib.figure.Figure at 0x18d89f08160>"
      ]
     },
     "metadata": {},
     "output_type": "display_data"
    }
   ],
   "source": [
    "sns.distplot(quaketrainlabels['damage_grade'], kde=False)\n",
    "plt.xlabel('Damage Grade')\n",
    "plt.ylabel('# of observations')\n",
    "plt.title('Observations by Damage Grade')\n",
    "plt.show()"
   ]
  },
  {
   "cell_type": "markdown",
   "metadata": {},
   "source": [
    "This histogram matches Histogram A."
   ]
  },
  {
   "cell_type": "markdown",
   "metadata": {},
   "source": [
    "The next goal is to determine the average age of the buildings based on their damage grade."
   ]
  },
  {
   "cell_type": "code",
   "execution_count": 32,
   "metadata": {},
   "outputs": [
    {
     "name": "stdout",
     "output_type": "stream",
     "text": [
      "                    age  over_average\n",
      "damage_grade                         \n",
      "1             12.633262         False\n",
      "2             26.965046          True\n",
      "3             26.301810          True\n"
     ]
    }
   ],
   "source": [
    "average_age = np.mean(quaketrainlabeled['age'])\n",
    "\n",
    "agesummary = pd.pivot_table(quaketrainlabeled, index='damage_grade', values='age', aggfunc=np.mean )\n",
    "agesummary['over_average'] = agesummary['age'].apply(lambda x: True if x > average_age  else False)\n",
    "print(agesummary)"
   ]
  },
  {
   "cell_type": "markdown",
   "metadata": {},
   "source": [
    "The next goal is to determine the average height of the buildings based on their damage grade.\n",
    "In addition, whether or not the height per damage grade is over average needs to be determined."
   ]
  },
  {
   "cell_type": "code",
   "execution_count": 33,
   "metadata": {},
   "outputs": [
    {
     "name": "stdout",
     "output_type": "stream",
     "text": [
      "                height  over_average\n",
      "damage_grade                        \n",
      "1             4.415778         False\n",
      "2             4.670334          True\n",
      "3             4.689726          True\n"
     ]
    }
   ],
   "source": [
    "average_height = np.mean(quaketrainlabeled['height'])\n",
    "\n",
    "heightsummary = pd.pivot_table(quaketrainlabeled, index='damage_grade', values='height', aggfunc=np.mean )\n",
    "heightsummary['over_average'] = heightsummary['height'].apply(lambda x: True if x > average_height  else False)\n",
    "print(heightsummary)"
   ]
  },
  {
   "cell_type": "markdown",
   "metadata": {},
   "source": [
    "Finally, we need to determine which damage grade most impacted buildings above average area.\n",
    "This will be accomplished by way of a histogram of buildings over average area."
   ]
  },
  {
   "cell_type": "code",
   "execution_count": 34,
   "metadata": {},
   "outputs": [
    {
     "data": {
      "image/png": "[encoded data removed]",
      "text/plain": [
       "<matplotlib.figure.Figure at 0x18d89f08e80>"
      ]
     },
     "metadata": {},
     "output_type": "display_data"
    }
   ],
   "source": [
    "over_average_area = quaketrainlabeled[quaketrainlabeled['area'] > np.mean(quaketrainlabeled['area'])]\n",
    "\n",
    "sns.distplot(over_average_area['damage_grade'], kde=False)\n",
    "plt.xlabel('Damage Grade')\n",
    "plt.ylabel('# of observations w. over average height')\n",
    "plt.title('Observations by Damage Grade')\n",
    "plt.show()"
   ]
  },
  {
   "cell_type": "code",
   "execution_count": null,
   "metadata": {},
   "outputs": [],
   "source": []
  }
 ],
 "metadata": {
  "kernelspec": {
   "display_name": "Python 3",
   "language": "python",
   "name": "python3"
  },
  "language_info": {
   "codemirror_mode": {
    "name": "ipython",
    "version": 3
   },
   "file_extension": ".py",
   "mimetype": "text/x-python",
   "name": "python",
   "nbconvert_exporter": "python",
   "pygments_lexer": "ipython3",
   "version": "3.6.4"
  }
 },
 "nbformat": 4,
 "nbformat_minor": 2
}
