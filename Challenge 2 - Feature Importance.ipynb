{
 "cells": [
  {
   "cell_type": "code",
   "execution_count": 43,
   "metadata": {},
   "outputs": [],
   "source": [
    "import numpy as np\n",
    "import pandas as pd\n",
    "import xgboost as xgb\n",
    "import re\n",
    "from scipy import stats\n",
    "from sklearn.preprocessing import StandardScaler\n",
    "from sklearn.model_selection import cross_val_score, train_test_split, GridSearchCV, RandomizedSearchCV\n",
    "from sklearn.metrics import confusion_matrix, f1_score, precision_score, recall_score, precision_recall_fscore_support"
   ]
  },
  {
   "cell_type": "code",
   "execution_count": 44,
   "metadata": {},
   "outputs": [],
   "source": [
    "import matplotlib.pyplot as plt\n",
    "import seaborn as sns\n",
    "\n",
    "%matplotlib inline"
   ]
  },
  {
   "cell_type": "code",
   "execution_count": 45,
   "metadata": {},
   "outputs": [],
   "source": [
    "X_holdout = pd.read_csv('test_values.csv')\n",
    "X = pd.read_csv('train_values.csv')\n",
    "y = pd.read_csv('train_labels.csv')\n",
    "all_train = X.merge(y, left_on='building_id', right_on='building_id')\n",
    "all_X = pd.concat([X, X_holdout], axis=0)"
   ]
  },
  {
   "cell_type": "code",
   "execution_count": 46,
   "metadata": {},
   "outputs": [],
   "source": [
    "categorical_columns = ['geo_level_1_id','geo_level_2_id','geo_level_3_id',\n",
    "                       'land_surface_condition','foundation_type','roof_type',\n",
    "                       'ground_floor_type','other_floor_type','position',\n",
    "                       'plan_configuration','legal_ownership_status']\n",
    "\n",
    "miscoded_integers = ['has_secondary_use','count_families']\n",
    "\n",
    "non_binary_integers = ['area','age','height','count_families','count_floors_pre_eq']\n",
    "\n",
    "columns_to_drop = ['building_id','geo_level_3_id','has_secondary_use','land_surface_condition','position',\n",
    "                    'plan_configuration','legal_ownership_status','has_secondary_use_agriculture', 'count_families',\n",
    "                     'has_secondary_use_hotel','has_secondary_use_rental','has_secondary_use_institution',\n",
    "                     'has_secondary_use_school','has_secondary_use_industry','has_secondary_use_health_post',\n",
    "                     'has_secondary_use_gov_office','has_secondary_use_use_police','has_secondary_use_other','height']"
   ]
  },
  {
   "cell_type": "code",
   "execution_count": 47,
   "metadata": {},
   "outputs": [],
   "source": [
    "all_X['area'] = all_X['area'].apply(lambda x: 100 if x > 100 else x)\n",
    "all_X['age'] = all_X['age'].apply(lambda x: 50 if x > 50 else x)\n",
    "all_X['height'] = all_X['height'].apply(lambda x: 8 if x > 8 else x)\n",
    "all_X['count_floors_pre_eq'] = all_X['count_floors_pre_eq'].apply(lambda x: 4 if x > 4 else x)"
   ]
  },
  {
   "cell_type": "code",
   "execution_count": 48,
   "metadata": {},
   "outputs": [],
   "source": [
    "#Converting float columns to integers.\n",
    "for col in miscoded_integers:\n",
    "    all_X[col] = all_X[col].astype('int64')\n",
    "    all_train[col] = all_train[col].astype('int64')\n",
    "\n",
    "#Converting categorical columns to categorical.\n",
    "for col in categorical_columns:\n",
    "    all_X[col] = all_X[col].astype('category')\n",
    "    all_train[col] = all_train[col].astype('category')\n",
    "\n",
    "#Scaling non-binary integers.\n",
    "#for col in non_binary_integers:\n",
    "#    all_X[col] = stats.boxcox(all_X[col])[0]\n",
    "#    all_train[col] = stats.boxcox(all_train[col])[0]\n",
    "\n",
    "#Dropping columns which do not have predictive value.\n",
    "for col in columns_to_drop:\n",
    "    all_X = all_X.drop([col], axis=1)\n",
    "    all_train = all_train.drop([col], axis=1)\n",
    "\n",
    "#Create dummies for categorical variables.\n",
    "all_X = pd.get_dummies(all_X)\n",
    "all_train = pd.get_dummies(all_train)"
   ]
  },
  {
   "cell_type": "code",
   "execution_count": 49,
   "metadata": {},
   "outputs": [],
   "source": [
    "#Dropping outliers.\n",
    "\n",
    "X = all_X.iloc[0:10000,:]\n",
    "X_holdout = all_X.iloc[10000:,:]\n",
    "y = y['damage_grade']\n",
    "\n",
    "X_train, X_test, y_train, y_test = train_test_split(X, y, test_size=0.33, random_state=905)"
   ]
  },
  {
   "cell_type": "code",
   "execution_count": 50,
   "metadata": {},
   "outputs": [
    {
     "data": {
      "text/plain": [
       "XGBClassifier(base_score=0.5, colsample_bylevel=1, colsample_bytree=1,\n",
       "       gamma=0, learning_rate=0.05, max_delta_step=0, max_depth=7,\n",
       "       min_child_weight=1, missing=None, n_estimators=1000, nthread=-1,\n",
       "       objective='multi:softprob', reg_alpha=0, reg_lambda=1,\n",
       "       scale_pos_weight=1, seed=0, silent=True, subsample=0.7)"
      ]
     },
     "execution_count": 50,
     "metadata": {},
     "output_type": "execute_result"
    }
   ],
   "source": [
    "#This classifier is used to determine feature importance. Hyperparameters are not tuned.\n",
    "\n",
    "cls_model = xgb.XGBClassifier(subsample=0.7,\n",
    "                              min_child_weight=1, objective=\"multi:softmax\",\n",
    "                              learning_rate=0.05, max_depth=7, n_estimators=1000)\n",
    "#cls_model = xgb.XGBClassifier(objective=\"multi:softmax\", seed=416)\n",
    "cls_model.fit(X_train, y_train)"
   ]
  },
  {
   "cell_type": "code",
   "execution_count": 51,
   "metadata": {},
   "outputs": [
    {
     "data": {
      "text/plain": [
       "<matplotlib.axes._subplots.AxesSubplot at 0x264adc35978>"
      ]
     },
     "execution_count": 51,
     "metadata": {},
     "output_type": "execute_result"
    },
    {
     "data": {
      "image/png": "[encoded data removed]",
      "text/plain": [
       "<Figure size 432x288 with 1 Axes>"
      ]
     },
     "metadata": {},
     "output_type": "display_data"
    }
   ],
   "source": [
    "importance = cls_model.feature_importances_\n",
    "importance_graph = pd.Series(importance, index=X_train.columns)\n",
    "importance_graph = importance_graph.nlargest(100)[importance_graph > 0.01]\n",
    "importance_graph.plot(kind='barh')"
   ]
  },
  {
   "cell_type": "code",
   "execution_count": 52,
   "metadata": {},
   "outputs": [],
   "source": [
    "importance = cls_model.feature_importances_\n",
    "importance_text = pd.Series(importance, index=X.columns)\n",
    "importance_frame = pd.DataFrame(importance_text)\n",
    "importance_frame.reset_index(inplace = True)\n",
    "importance_frame.columns = ['feature_name','feature_importance']\n",
    "#importance_frame.to_csv('importance.csv')\n",
    "#importance_frame['colroot'] = importance_frame['feature_name'].apply(lambda x: get_root(x, categorical_columns))"
   ]
  },
  {
   "cell_type": "code",
   "execution_count": 53,
   "metadata": {},
   "outputs": [],
   "source": [
    "y_pred = cls_model.predict(X_test)"
   ]
  },
  {
   "cell_type": "code",
   "execution_count": 54,
   "metadata": {},
   "outputs": [
    {
     "name": "stdout",
     "output_type": "stream",
     "text": [
      "[[ 121  181    8]\n",
      " [  95 1510  293]\n",
      " [   7  474  611]]\n"
     ]
    }
   ],
   "source": [
    "cm = confusion_matrix(y_test, y_pred)\n",
    "print(cm)"
   ]
  },
  {
   "cell_type": "code",
   "execution_count": 55,
   "metadata": {},
   "outputs": [
    {
     "name": "stdout",
     "output_type": "stream",
     "text": [
      "F1 micro score: 67.939%\n"
     ]
    }
   ],
   "source": [
    "print('F1 micro score: {:.3%}'.format(f1_score(y_test, y_pred, average='micro')))"
   ]
  },
  {
   "cell_type": "code",
   "execution_count": 56,
   "metadata": {},
   "outputs": [
    {
     "data": {
      "text/plain": [
       "Text(33,0.5,'True results')"
      ]
     },
     "execution_count": 56,
     "metadata": {},
     "output_type": "execute_result"
    },
    {
     "data": {
      "image/png": "[encoded data removed]",
      "text/plain": [
       "<Figure size 432x288 with 2 Axes>"
      ]
     },
     "metadata": {},
     "output_type": "display_data"
    }
   ],
   "source": [
    "sns.heatmap(cm, annot=True, fmt='d', cmap=plt.cm.Blues, xticklabels = [1,2,3], yticklabels = [1,2,3])\n",
    "plt.xlabel('Predicted results')\n",
    "plt.ylabel('True results')"
   ]
  },
  {
   "cell_type": "code",
   "execution_count": null,
   "metadata": {},
   "outputs": [],
   "source": []
  }
 ],
 "metadata": {
  "kernelspec": {
   "display_name": "Python 3",
   "language": "python",
   "name": "python3"
  },
  "language_info": {
   "codemirror_mode": {
    "name": "ipython",
    "version": 3
   },
   "file_extension": ".py",
   "mimetype": "text/x-python",
   "name": "python",
   "nbconvert_exporter": "python",
   "pygments_lexer": "ipython3",
   "version": "3.6.4"
  }
 },
 "nbformat": 4,
 "nbformat_minor": 2
}
